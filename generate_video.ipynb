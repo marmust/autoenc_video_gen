{
 "cells": [
  {
   "cell_type": "code",
   "execution_count": 1,
   "id": "d08006c1",
   "metadata": {},
   "outputs": [],
   "source": [
    "import torch\n",
    "import torch.nn as nn\n",
    "import torch.nn.functional as F\n",
    "from transformers import GPT2Model, GPT2LMHeadModel\n",
    "import imageio, os\n",
    "from torchvision import transforms\n",
    "from PIL import Image\n",
    "import numpy as np\n",
    "from tqdm import tqdm\n",
    "\n",
    "run_device = torch.device('cuda' if torch.cuda.is_available() else 'cpu')"
   ]
  },
  {
   "cell_type": "code",
   "execution_count": 2,
   "id": "48baee2f",
   "metadata": {},
   "outputs": [],
   "source": [
    "# model settings\n",
    "RESOLUTION_WIDTH = 128\n",
    "RESOLUTION_HEIGHT = 128\n",
    "CHANNELS = 3\n",
    "BOTTLENECK_DIM = 768"
   ]
  },
  {
   "cell_type": "code",
   "execution_count": 3,
   "metadata": {},
   "outputs": [],
   "source": [
    "class ImageProcessor:\n",
    "    def tensor_to_pil(self, image_tensor: torch.Tensor) -> Image.Image:\n",
    "        \"\"\"\n",
    "        Convert a tensor to a PIL Image.\n",
    "        \n",
    "        Args:\n",
    "            image_tensor (torch.Tensor): A tensor of shape (C, H, W) with pixel values in the range [0, 1].\n",
    "        \n",
    "        Returns:\n",
    "            Image.Image: A PIL Image object.\n",
    "        \"\"\"\n",
    "        # Clamp to [0, 1], convert to [0, 255] and uint8\n",
    "        image_np = (image_tensor.clamp(0, 1).mul(255).byte().cpu().permute(1, 2, 0).numpy())\n",
    "        return Image.fromarray(image_np)\n",
    "    \n",
    "    def pil_to_tensor(self, image: Image.Image) -> torch.Tensor:\n",
    "        \"\"\"\n",
    "        Convert a PIL image to a PyTorch tensor of shape (C, H, W) with values in [0, 1].\n",
    "        \n",
    "        Args:\n",
    "            image (Image.Image): A PIL Image object.\n",
    "        \n",
    "        Returns:\n",
    "            torch.Tensor: A tensor of shape (C, H, W) with pixel values in the range [0, 1].\n",
    "        \"\"\"\n",
    "        return transforms.ToTensor()(image)  # Already returns (C, H, W)"
   ]
  },
  {
   "cell_type": "code",
   "execution_count": 4,
   "id": "708a5ca4",
   "metadata": {},
   "outputs": [],
   "source": [
    "class ResidualBlock(nn.Module):\n",
    "    def __init__(self, channels):\n",
    "        super().__init__()\n",
    "        self.block = nn.Sequential(\n",
    "            nn.Conv2d(channels, channels, 3, 1, 1),\n",
    "            nn.ReLU(inplace=True),\n",
    "            nn.Conv2d(channels, channels, 3, 1, 1)\n",
    "        )\n",
    "    def forward(self, x):\n",
    "        return x + self.block(x)\n",
    "\n",
    "class ConvAutoencoder(nn.Module):\n",
    "    def __init__(self, in_channels=CHANNELS, latent_dim=BOTTLENECK_DIM, input_resolution=(RESOLUTION_WIDTH, RESOLUTION_HEIGHT)):\n",
    "        super().__init__()\n",
    "        self.latent_dim = latent_dim\n",
    "\n",
    "        self.encoder = nn.Sequential(\n",
    "            nn.Conv2d(in_channels, 32, 4, 2, 1),  # 64x64\n",
    "            nn.ReLU(),\n",
    "            nn.Conv2d(32, 64, 4, 2, 1),           # 32x32\n",
    "            nn.ReLU(),\n",
    "            ResidualBlock(64),\n",
    "            nn.Conv2d(64, 128, 4, 2, 1),          # 16x16\n",
    "            nn.ReLU(),\n",
    "            nn.Conv2d(128, 256, 4, 2, 1),         # 8x8\n",
    "            nn.ReLU()\n",
    "        )\n",
    "\n",
    "        with torch.no_grad():\n",
    "            dummy = torch.zeros(1, in_channels, *input_resolution)\n",
    "            enc_out = self.encoder(dummy)\n",
    "            self.flattened_size = enc_out.view(1, -1).shape[1]\n",
    "\n",
    "        self.encoder_fc = nn.Linear(self.flattened_size, latent_dim)\n",
    "        self.decoder_fc = nn.Linear(latent_dim, self.flattened_size)\n",
    "\n",
    "        self.decoder = nn.Sequential(\n",
    "            nn.Unflatten(1, enc_out.shape[1:]),\n",
    "            nn.ConvTranspose2d(256, 128, 4, 2, 1),  # 16x16\n",
    "            nn.ReLU(),\n",
    "            nn.ConvTranspose2d(128, 64, 4, 2, 1),   # 32x32\n",
    "            nn.ReLU(),\n",
    "            ResidualBlock(64),\n",
    "            nn.ConvTranspose2d(64, 32, 4, 2, 1),    # 64x64\n",
    "            nn.ReLU(),\n",
    "            nn.ConvTranspose2d(32, in_channels, 4, 2, 1),  # 128x128\n",
    "            nn.Tanh()\n",
    "        )\n",
    "\n",
    "    def encode(self, x):\n",
    "        x = self.encoder(x)\n",
    "        x = torch.flatten(x, 1)\n",
    "        return self.encoder_fc(x)\n",
    "\n",
    "    def decode(self, z):\n",
    "        z = self.decoder_fc(z)\n",
    "        return self.decoder(z)"
   ]
  },
  {
   "cell_type": "code",
   "execution_count": 6,
   "id": "59577264",
   "metadata": {},
   "outputs": [
    {
     "ename": "OSError",
     "evalue": "Error no file named pytorch_model.bin, tf_model.h5, model.ckpt.index or flax_model.msgpack found in directory checkpoints/run11/gpt2_decap.",
     "output_type": "error",
     "traceback": [
      "\u001b[1;31m---------------------------------------------------------------------------\u001b[0m",
      "\u001b[1;31mOSError\u001b[0m                                   Traceback (most recent call last)",
      "\u001b[1;32m~\\AppData\\Local\\Temp\\ipykernel_81232\\4022280647.py\u001b[0m in \u001b[0;36m<module>\u001b[1;34m\u001b[0m\n\u001b[0;32m      6\u001b[0m \u001b[1;33m\u001b[0m\u001b[0m\n\u001b[0;32m      7\u001b[0m \u001b[1;31m# Load the base model first\u001b[0m\u001b[1;33m\u001b[0m\u001b[1;33m\u001b[0m\u001b[0m\n\u001b[1;32m----> 8\u001b[1;33m \u001b[0mtransformer\u001b[0m \u001b[1;33m=\u001b[0m \u001b[0mGPT2LMHeadModel\u001b[0m\u001b[1;33m.\u001b[0m\u001b[0mfrom_pretrained\u001b[0m\u001b[1;33m(\u001b[0m\u001b[1;34m\"checkpoints/run11/gpt2_decap\"\u001b[0m\u001b[1;33m)\u001b[0m\u001b[1;33m\u001b[0m\u001b[1;33m\u001b[0m\u001b[0m\n\u001b[0m\u001b[0;32m      9\u001b[0m \u001b[0mtransformer\u001b[0m \u001b[1;33m=\u001b[0m \u001b[0mtransformer\u001b[0m\u001b[1;33m.\u001b[0m\u001b[0mto\u001b[0m\u001b[1;33m(\u001b[0m\u001b[0mrun_device\u001b[0m\u001b[1;33m)\u001b[0m\u001b[1;33m.\u001b[0m\u001b[0meval\u001b[0m\u001b[1;33m(\u001b[0m\u001b[1;33m)\u001b[0m\u001b[1;33m\u001b[0m\u001b[1;33m\u001b[0m\u001b[0m\n\u001b[0;32m     10\u001b[0m \u001b[1;33m\u001b[0m\u001b[0m\n",
      "\u001b[1;32mc:\\Users\\user\\anaconda3\\lib\\site-packages\\transformers\\modeling_utils.py\u001b[0m in \u001b[0;36mfrom_pretrained\u001b[1;34m(cls, pretrained_model_name_or_path, *model_args, **kwargs)\u001b[0m\n\u001b[0;32m   2162\u001b[0m                     )\n\u001b[0;32m   2163\u001b[0m                 \u001b[1;32melse\u001b[0m\u001b[1;33m:\u001b[0m\u001b[1;33m\u001b[0m\u001b[1;33m\u001b[0m\u001b[0m\n\u001b[1;32m-> 2164\u001b[1;33m                     raise EnvironmentError(\n\u001b[0m\u001b[0;32m   2165\u001b[0m                         \u001b[1;34mf\"Error no file named {WEIGHTS_NAME}, {TF2_WEIGHTS_NAME}, {TF_WEIGHTS_NAME + '.index'} or \"\u001b[0m\u001b[1;33m\u001b[0m\u001b[1;33m\u001b[0m\u001b[0m\n\u001b[0;32m   2166\u001b[0m                         \u001b[1;34mf\"{FLAX_WEIGHTS_NAME} found in directory {pretrained_model_name_or_path}.\"\u001b[0m\u001b[1;33m\u001b[0m\u001b[1;33m\u001b[0m\u001b[0m\n",
      "\u001b[1;31mOSError\u001b[0m: Error no file named pytorch_model.bin, tf_model.h5, model.ckpt.index or flax_model.msgpack found in directory checkpoints/run11/gpt2_decap."
     ]
    }
   ],
   "source": [
    "# Load the autoencoder\n",
    "autoenc = ConvAutoencoder()\n",
    "state_dict = torch.load(\"checkpoints/run11/autoenc.pth\", map_location=run_device)\n",
    "autoenc.load_state_dict(state_dict)\n",
    "autoenc = autoenc.to(run_device).eval()\n",
    "\n",
    "# Load the base model first\n",
    "transformer = GPT2LMHeadModel.from_pretrained(\"checkpoints/run11/gpt2_decap\")\n",
    "transformer = transformer.to(run_device).eval()\n",
    "\n",
    "# Load image processor\n",
    "proc = ImageProcessor()"
   ]
  },
  {
   "cell_type": "code",
   "execution_count": null,
   "metadata": {},
   "outputs": [],
   "source": [
    "def generate_frames(num_frames, context_length=32, initial_image_tensor=None, initial_image_count=16, autoenc=autoenc, transformer=transformer):\n",
    "    with torch.no_grad():\n",
    "        # sequence of frames, stored as a list to avoid repeated tensor cat / realloc\n",
    "        seq = []\n",
    "\n",
    "        if initial_image_tensor is not None:\n",
    "            # replicate initial image to form the seed context\n",
    "            initial_images = initial_image_tensor.unsqueeze(0).repeat((initial_image_count, 1, 1, 1))\n",
    "            seq.extend(initial_images)\n",
    "\n",
    "        # collect only the output (predicted) frames for video writing\n",
    "        output_frames = []\n",
    "\n",
    "        for _ in tqdm(range(num_frames)):\n",
    "            # get the last `context_length` frames as a context window\n",
    "            context = torch.stack(seq[-context_length:])  # shape: (context_length, C, H, W)\n",
    "\n",
    "            # encode the context window into latent space\n",
    "            latents = autoenc.encode(context)  # shape: (context_length, bottleneck_dim)\n",
    "\n",
    "            # predict next latent using transformer, needs batch/time dim\n",
    "            pred_latents = transformer(inputs_embeds=latents.unsqueeze(0)).last_hidden_state  # shape: (1, context_length, bottleneck_dim)\n",
    "\n",
    "            # get only the predicted next latent (last in the sequence)\n",
    "            next_latent = pred_latents[0, -1]  # shape: (bottleneck_dim,)\n",
    "\n",
    "            # decode the latent back into an image\n",
    "            next_frame = autoenc.decode(next_latent.unsqueeze(0))  # shape: (1, C, H, W)\n",
    "\n",
    "            # store the predicted frame for context and output\n",
    "            seq.append(next_frame.squeeze(0))  # context sequence\n",
    "            output_frames.append(next_frame.squeeze(0).detach().cpu())  # save output on CPU\n",
    "\n",
    "        # return full sequence of output frames\n",
    "        return torch.stack(output_frames)\n"
   ]
  },
  {
   "cell_type": "code",
   "execution_count": null,
   "metadata": {},
   "outputs": [],
   "source": [
    "def save_video(frames, output='output.mp4', fps=60):\n",
    "    writer = imageio.get_writer(output, fps=fps)\n",
    "    for frame in tqdm(frames):\n",
    "        img = frame.permute(1,2,0).numpy()\n",
    "        img = ((img + 1)/2 * 255).astype('uint8')\n",
    "        writer.append_data(img)\n",
    "    writer.close()\n",
    "    print(f'Saved {output}')"
   ]
  },
  {
   "cell_type": "code",
   "execution_count": null,
   "id": "6ae1884e",
   "metadata": {},
   "outputs": [
    {
     "name": "stderr",
     "output_type": "stream",
     "text": [
      "100%|██████████| 1200/1200 [00:12<00:00, 99.69it/s] \n",
      "100%|██████████| 1200/1200 [00:00<00:00, 1334.03it/s]"
     ]
    },
    {
     "name": "stdout",
     "output_type": "stream",
     "text": [
      "Saved output.mp4\n"
     ]
    },
    {
     "name": "stderr",
     "output_type": "stream",
     "text": [
      "\n"
     ]
    }
   ],
   "source": [
    "init_img = proc.pil_to_tensor(Image.open(\"test.png\").convert('RGB').resize((RESOLUTION_WIDTH, RESOLUTION_HEIGHT))).to(run_device)\n",
    "\n",
    "frames = generate_frames(1200, initial_image_tensor=init_img).detach().cpu()\n",
    "torch.cuda.empty_cache()\n",
    "save_video(frames)"
   ]
  },
  {
   "cell_type": "code",
   "execution_count": null,
   "metadata": {},
   "outputs": [
    {
     "data": {
      "text/plain": [
       "torch.Size([1200, 3, 128, 128])"
      ]
     },
     "execution_count": 9,
     "metadata": {},
     "output_type": "execute_result"
    }
   ],
   "source": [
    "frames.shape"
   ]
  },
  {
   "cell_type": "code",
   "execution_count": null,
   "metadata": {},
   "outputs": [],
   "source": [
    "img = Image.open(\"test.png\").convert('RGB').resize((RESOLUTION_WIDTH, RESOLUTION_HEIGHT))"
   ]
  },
  {
   "cell_type": "code",
   "execution_count": null,
   "metadata": {},
   "outputs": [],
   "source": [
    "enc_img = proc.pil_to_tensor(img).to(run_device).unsqueeze(0)"
   ]
  },
  {
   "cell_type": "code",
   "execution_count": null,
   "metadata": {},
   "outputs": [],
   "source": [
    "latent = autoenc.encode(enc_img)"
   ]
  },
  {
   "cell_type": "code",
   "execution_count": null,
   "metadata": {},
   "outputs": [],
   "source": [
    "prediction = transformer(inputs_embeds=latent).last_hidden_state"
   ]
  },
  {
   "cell_type": "code",
   "execution_count": null,
   "id": "636f8152",
   "metadata": {},
   "outputs": [],
   "source": [
    "decoded = autoenc.decode(prediction)"
   ]
  },
  {
   "cell_type": "code",
   "execution_count": null,
   "metadata": {},
   "outputs": [
    {
     "data": {
      "image/jpeg": "[encoded data removed]",
      "image/png": "[encoded data removed]",
      "text/plain": [
       "<PIL.Image.Image image mode=RGB size=128x128>"
      ]
     },
     "execution_count": 15,
     "metadata": {},
     "output_type": "execute_result"
    }
   ],
   "source": [
    "proc.tensor_to_pil(decoded.squeeze(0))"
   ]
  },
  {
   "cell_type": "code",
   "execution_count": null,
   "metadata": {},
   "outputs": [],
   "source": []
  }
 ],
 "metadata": {
  "kernelspec": {
   "display_name": "base",
   "language": "python",
   "name": "python3"
  },
  "language_info": {
   "codemirror_mode": {
    "name": "ipython",
    "version": 3
   },
   "file_extension": ".py",
   "mimetype": "text/x-python",
   "name": "python",
   "nbconvert_exporter": "python",
   "pygments_lexer": "ipython3",
   "version": "3.9.13"
  }
 },
 "nbformat": 4,
 "nbformat_minor": 5
}
