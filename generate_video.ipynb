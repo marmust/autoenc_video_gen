{
 "cells": [
  {
   "cell_type": "code",
   "execution_count": 1,
   "id": "d08006c1",
   "metadata": {},
   "outputs": [],
   "source": [
    "import torch\n",
    "import torch.nn as nn\n",
    "import torch.nn.functional as F\n",
    "from transformers import GPT2Model\n",
    "import imageio, os\n",
    "from PIL import Image\n",
    "\n",
    "run_device = torch.device('cuda' if torch.cuda.is_available() else 'cpu')"
   ]
  },
  {
   "cell_type": "code",
   "execution_count": 2,
   "id": "48baee2f",
   "metadata": {},
   "outputs": [],
   "source": [
    "# model settings\n",
    "RESOLUTION_WIDTH = 128\n",
    "RESOLUTION_HEIGHT = 128\n",
    "CHANNELS = 3\n",
    "BOTTLENECK_DIM = 768"
   ]
  },
  {
   "cell_type": "code",
   "execution_count": 3,
   "id": "708a5ca4",
   "metadata": {},
   "outputs": [],
   "source": [
    "class ResidualBlock(nn.Module):\n",
    "    def __init__(self, channels):\n",
    "        super().__init__()\n",
    "        self.block = nn.Sequential(\n",
    "            nn.Conv2d(channels, channels, 3, 1, 1),\n",
    "            nn.BatchNorm2d(channels),\n",
    "            nn.ReLU(inplace=True),\n",
    "            nn.Conv2d(channels, channels, 3, 1, 1),\n",
    "            nn.BatchNorm2d(channels)\n",
    "        )\n",
    "    def forward(self, x):\n",
    "        return x + self.block(x)\n",
    "\n",
    "class ConvAutoencoder(nn.Module):\n",
    "    def __init__(self, in_channels=CHANNELS, latent_dim=BOTTLENECK_DIM, input_resolution=(RESOLUTION_WIDTH, RESOLUTION_HEIGHT)):\n",
    "        super().__init__()\n",
    "        self.latent_dim = latent_dim\n",
    "        self.encoder = nn.Sequential(\n",
    "            nn.Conv2d(in_channels, 64, 4, 2, 1),\n",
    "            nn.ReLU(),\n",
    "            ResidualBlock(64),\n",
    "            nn.Conv2d(64, 128, 4, 2, 1),\n",
    "            nn.BatchNorm2d(128),\n",
    "            nn.ReLU(),\n",
    "            ResidualBlock(128),\n",
    "            nn.Conv2d(128, 256, 4, 2, 1),\n",
    "            nn.BatchNorm2d(256),\n",
    "            nn.ReLU(),\n",
    "            ResidualBlock(256),\n",
    "            nn.Conv2d(256, 512, 4, 2, 1),\n",
    "            nn.BatchNorm2d(512),\n",
    "            nn.ReLU(),\n",
    "            ResidualBlock(512)\n",
    "        )\n",
    "\n",
    "        # Infer shape\n",
    "        with torch.no_grad():\n",
    "            dummy = torch.zeros(1, in_channels, *input_resolution)\n",
    "            enc_out = self.encoder(dummy)\n",
    "            self.flattened_size = enc_out.view(1, -1).shape[1]\n",
    "\n",
    "        self.encoder_fc = nn.Linear(self.flattened_size, latent_dim)\n",
    "        self.decoder_fc = nn.Linear(latent_dim, self.flattened_size)\n",
    "\n",
    "        self.decoder = nn.Sequential(\n",
    "            nn.Unflatten(1, enc_out.shape[1:]),\n",
    "            ResidualBlock(512),\n",
    "            nn.ConvTranspose2d(512, 256, 4, 2, 1),\n",
    "            nn.BatchNorm2d(256),\n",
    "            nn.ReLU(),\n",
    "            ResidualBlock(256),\n",
    "            nn.ConvTranspose2d(256, 128, 4, 2, 1),\n",
    "            nn.BatchNorm2d(128),\n",
    "            nn.ReLU(),\n",
    "            ResidualBlock(128),\n",
    "            nn.ConvTranspose2d(128, 64, 4, 2, 1),\n",
    "            nn.BatchNorm2d(64),\n",
    "            nn.ReLU(),\n",
    "            ResidualBlock(64),\n",
    "            nn.ConvTranspose2d(64, in_channels, 4, 2, 1),\n",
    "            nn.Tanh()\n",
    "        )\n",
    "\n",
    "    def encode(self, x):\n",
    "        x = self.encoder(x)\n",
    "        x = torch.flatten(x, 1)\n",
    "        return self.encoder_fc(x)\n",
    "    \n",
    "    def decode(self, z):\n",
    "        z = self.decoder_fc(z)\n",
    "        return self.decoder(z)"
   ]
  },
  {
   "cell_type": "code",
   "execution_count": 4,
   "id": "59577264",
   "metadata": {},
   "outputs": [],
   "source": [
    "autoenc = ConvAutoencoder()\n",
    "state_dict = torch.load(\"checkpoints/run2/autoenc.pth\", map_location=run_device)  # optional: map to device\n",
    "autoenc.load_state_dict(state_dict)\n",
    "autoenc = autoenc.to(run_device).eval()\n",
    "transformer = GPT2Model.from_pretrained(\"checkpoints/run2/gpt2_decap\")\n",
    "transformer = transformer.to(run_device).eval()"
   ]
  },
  {
   "cell_type": "code",
   "execution_count": null,
   "id": "52c1f7a0",
   "metadata": {},
   "outputs": [],
   "source": [
    "def generate_frames(num_frames=6000, seed_count=4, seed_image=None, seed_folder='video_dataset'):\n",
    "    \"\"\"Generate video frames. If `seed_image` is provided, it is used\n",
    "    as the first `seed_count` frames. Otherwise, frames from `seed_folder`\n",
    "    are used if available.\n",
    "    \"\"\"\n",
    "    frames = []\n",
    "    latents = []\n",
    "    if seed_image is not None:\n",
    "        img = Image.open(seed_image).convert('RGB').resize((RESOLUTION_WIDTH, RESOLUTION_HEIGHT))\n",
    "        t = torch.from_numpy(np.array(img)).permute(2,0,1).float() / 127.5 - 1\n",
    "        for _ in range(seed_count):\n",
    "            frames.append(t.unsqueeze(0))\n",
    "            latents.append(autoenc.encode(t.unsqueeze(0).to(run_device)))\n",
    "    elif os.path.isdir(seed_folder):\n",
    "        videos = [f for f in os.listdir(seed_folder) if f.endswith('.mp4')]\n",
    "        if videos:\n",
    "            reader = imageio.get_reader(os.path.join(seed_folder, videos[0]))\n",
    "            for i, img in enumerate(reader):\n",
    "                if i >= seed_count:\n",
    "                    break\n",
    "                t = torch.from_numpy(img).permute(2,0,1).float() / 127.5 - 1\n",
    "                frames.append(t.unsqueeze(0))\n",
    "                latents.append(autoenc.encode(t.unsqueeze(0).to(run_device)))\n",
    "            reader.close()\n",
    "    if not latents:\n",
    "        for _ in range(seed_count):\n",
    "            z = torch.randn(1, BOTTLENECK_DIM, device=run_device)\n",
    "            latents.append(z)\n",
    "            frames.append(autoenc.decode(z).clamp(-1,1).cpu())\n",
    "    seq = torch.stack(latents, dim=1)\n",
    "    with torch.no_grad():\n",
    "        for _ in range(num_frames - seed_count):\n",
    "            out = transformer(inputs_embeds=seq).last_hidden_state\n",
    "            next_latent = out[:, -1:, :]\n",
    "            frame = autoenc.decode(next_latent.squeeze(1)).clamp(-1, 1)\n",
    "            frames.append(frame.cpu())\n",
    "            seq = torch.cat([seq, next_latent], dim=1)[:, -16:, :]\n",
    "    return frames\n"
   ]
  },
  {
   "cell_type": "code",
   "execution_count": 8,
   "id": "6ae1884e",
   "metadata": {},
   "outputs": [
    {
     "name": "stdout",
     "output_type": "stream",
     "text": [
      "Saved output.mp4\n"
     ]
    }
   ],
   "source": [
    "frames = generate_frames(seed_image='test.png', seed_count=4)\n",
    "save_video(frames)"
   ]
  },
  {
   "cell_type": "code",
   "execution_count": null,
   "metadata": {},
   "outputs": [],
   "source": []
  }
 ],
 "metadata": {
  "kernelspec": {
   "display_name": "condavnv",
   "language": "python",
   "name": "python3"
  },
  "language_info": {
   "codemirror_mode": {
    "name": "ipython",
    "version": 3
   },
   "file_extension": ".py",
   "mimetype": "text/x-python",
   "name": "python",
   "nbconvert_exporter": "python",
   "pygments_lexer": "ipython3",
   "version": "3.12.9"
  }
 },
 "nbformat": 4,
 "nbformat_minor": 5
}
