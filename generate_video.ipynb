{
 "cells": [
  {
   "cell_type": "code",
   "execution_count": 1,
   "id": "d08006c1",
   "metadata": {},
   "outputs": [],
   "source": [
    "import torch\n",
    "import torch.nn as nn\n",
    "import torch.nn.functional as F\n",
    "from transformers import GPT2Model, GPT2LMHeadModel\n",
    "import imageio, os\n",
    "from torchvision import transforms\n",
    "from PIL import Image\n",
    "import numpy as np\n",
    "from tqdm import tqdm\n",
    "\n",
    "run_device = torch.device('cuda' if torch.cuda.is_available() else 'cpu')"
   ]
  },
  {
   "cell_type": "code",
   "execution_count": 2,
   "id": "48baee2f",
   "metadata": {},
   "outputs": [],
   "source": [
    "# video settings\n",
    "RESOLUTION_WIDTH = 128\n",
    "RESOLUTION_HEIGHT = 128\n",
    "CHANNELS = 3\n",
    "CONVERTED_FRAMERATE = 24\n",
    "\n",
    "# model settings\n",
    "WINDOW_SIZE = 48\n",
    "ENCODED_DIM = 768"
   ]
  },
  {
   "cell_type": "code",
   "execution_count": 3,
   "id": "b173c3bf",
   "metadata": {},
   "outputs": [],
   "source": [
    "class ResidualBlock(nn.Module):\n",
    "    def __init__(self, channels):\n",
    "        super().__init__()\n",
    "        self.block = nn.Sequential(\n",
    "            nn.Conv2d(channels, channels, 3, 1, 1),\n",
    "            nn.ReLU(inplace=True),\n",
    "            nn.Conv2d(channels, channels, 3, 1, 1)\n",
    "        )\n",
    "    def forward(self, x):\n",
    "        return x + self.block(x)\n",
    "\n",
    "class ConvAutoencoder(nn.Module):\n",
    "    def __init__(self, in_channels=CHANNELS, latent_dim=ENCODED_DIM, input_resolution=(RESOLUTION_WIDTH, RESOLUTION_HEIGHT)):\n",
    "        super().__init__()\n",
    "        self.latent_dim = latent_dim\n",
    "\n",
    "        self.encoder = nn.Sequential(\n",
    "            nn.Conv2d(in_channels, 32, 4, 2, 1),  # 64x64\n",
    "            nn.ReLU(),\n",
    "            nn.Conv2d(32, 64, 4, 2, 1),           # 32x32\n",
    "            nn.ReLU(),\n",
    "            ResidualBlock(64),\n",
    "            nn.Conv2d(64, 128, 4, 2, 1),          # 16x16\n",
    "            nn.ReLU(),\n",
    "            nn.Conv2d(128, 256, 4, 2, 1),         # 8x8\n",
    "            nn.ReLU()\n",
    "        )\n",
    "\n",
    "        with torch.no_grad():\n",
    "            dummy = torch.zeros(1, in_channels, *input_resolution)\n",
    "            enc_out = self.encoder(dummy)\n",
    "            self.flattened_size = enc_out.view(1, -1).shape[1]\n",
    "\n",
    "        self.encoder_fc = nn.Linear(self.flattened_size, latent_dim)\n",
    "        self.decoder_fc = nn.Linear(latent_dim, self.flattened_size)\n",
    "\n",
    "        self.decoder = nn.Sequential(\n",
    "            nn.Unflatten(1, enc_out.shape[1:]),\n",
    "            nn.ConvTranspose2d(256, 128, 4, 2, 1),  # 16x16\n",
    "            nn.ReLU(),\n",
    "            nn.ConvTranspose2d(128, 64, 4, 2, 1),   # 32x32\n",
    "            nn.ReLU(),\n",
    "            ResidualBlock(64),\n",
    "            nn.ConvTranspose2d(64, 32, 4, 2, 1),    # 64x64\n",
    "            nn.ReLU(),\n",
    "            nn.ConvTranspose2d(32, in_channels, 4, 2, 1),  # 128x128\n",
    "            nn.Tanh()\n",
    "        )\n",
    "\n",
    "    def encode(self, x):\n",
    "        x = self.encoder(x)\n",
    "        x = torch.flatten(x, 1)\n",
    "        x = F.gelu(self.encoder_fc(x))\n",
    "        \n",
    "        return x\n",
    "\n",
    "    def decode(self, z):\n",
    "        z = F.gelu(self.decoder_fc(z))\n",
    "        z = self.decoder(z)\n",
    "        \n",
    "        return z"
   ]
  },
  {
   "cell_type": "code",
   "execution_count": 4,
   "id": "732a7cf6",
   "metadata": {},
   "outputs": [],
   "source": [
    "class ImageProcessor:\n",
    "    def tensor_to_pil(self, image_tensor: torch.Tensor) -> Image.Image:\n",
    "        \"\"\"\n",
    "        Convert a tensor to a PIL Image.\n",
    "        \n",
    "        Args:\n",
    "            image_tensor (torch.Tensor): A tensor of shape (C, H, W) with pixel values in the range [0, 1].\n",
    "        \n",
    "        Returns:\n",
    "            Image.Image: A PIL Image object.\n",
    "        \"\"\"\n",
    "        # Clamp to [-1, 1], convert to [0, 255] and uint8\n",
    "        image_np = (image_tensor.clamp(-1, 1).mul(255).byte().cpu().permute(1, 2, 0).numpy())\n",
    "        return Image.fromarray(image_np)\n",
    "    \n",
    "    def pil_to_tensor(self, image: Image.Image) -> torch.Tensor:\n",
    "        \"\"\"\n",
    "        Convert a PIL image to a PyTorch tensor of shape (C, H, W) with values in [0, 1].\n",
    "        \n",
    "        Args:\n",
    "            image (Image.Image): A PIL Image object.\n",
    "        \n",
    "        Returns:\n",
    "            torch.Tensor: A tensor of shape (C, H, W) with pixel values in the range [0, 1].\n",
    "        \"\"\"\n",
    "        return transforms.ToTensor()(image) * 2 - 1  # Already returns (C, H, W)"
   ]
  },
  {
   "cell_type": "code",
   "execution_count": 5,
   "id": "59577264",
   "metadata": {},
   "outputs": [],
   "source": [
    "# Load the autoencoder\n",
    "autoencoder = ConvAutoencoder()\n",
    "autoenced_state_dict = torch.load(\"checkpoints/run1/autoenc.pth\", map_location=run_device)\n",
    "autoencoder.load_state_dict(autoenced_state_dict)\n",
    "autoencoder = autoencoder.to(run_device).eval()\n",
    "\n",
    "# load the transformer\n",
    "transformer = GPT2LMHeadModel.from_pretrained(\"checkpoints/run1/gpt2_decap\").transformer\n",
    "transformer = transformer.to(run_device).eval()\n",
    "\n",
    "# Load image processor\n",
    "proc = ImageProcessor()"
   ]
  },
  {
   "cell_type": "code",
   "execution_count": 6,
   "metadata": {},
   "outputs": [],
   "source": [
    "def generate_frames(num_frames, context_length=WINDOW_SIZE, autoencoder=autoencoder, transformer=transformer):\n",
    "    autoencoder.eval()\n",
    "    transformer.eval()\n",
    "    \n",
    "    total_seq = torch.zeros(num_frames + context_length, CHANNELS, RESOLUTION_HEIGHT, RESOLUTION_WIDTH, device=run_device)\n",
    "\n",
    "    with torch.no_grad():\n",
    "        for i in tqdm(range(num_frames)):\n",
    "            current_slice = total_seq[i:i + context_length]\n",
    "            \n",
    "            slice_latents = autoencoder.encode(current_slice)\n",
    "            \n",
    "            print(torch.max(slice_latents))\n",
    "            \n",
    "            #slice_latents += torch.rand(slice_latents.shape, device=run_device) * 1000\n",
    "            \n",
    "            prediction_latents = transformer(inputs_embeds=slice_latents.unsqueeze(0)).last_hidden_state\n",
    "            \n",
    "            prediction_frame = autoencoder.decode(prediction_latents.squeeze(0))  # shape: (context_length, C, H, W)\n",
    "            \n",
    "            total_seq[context_length + i] = prediction_frame[-1]\n",
    "    \n",
    "    return total_seq"
   ]
  },
  {
   "cell_type": "code",
   "execution_count": 7,
   "metadata": {},
   "outputs": [],
   "source": [
    "def save_video(frames, output='output.mp4', fps=CONVERTED_FRAMERATE):\n",
    "    writer = imageio.get_writer(output, fps=fps)\n",
    "    for frame in tqdm(frames):\n",
    "        img = frame.permute(1,2,0).numpy()\n",
    "        img = ((img + 1)/2 * 255).astype('uint8')\n",
    "        writer.append_data(img)\n",
    "    writer.close()\n",
    "    print(f'Saved {output}')"
   ]
  },
  {
   "cell_type": "code",
   "execution_count": null,
   "id": "6ae1884e",
   "metadata": {},
   "outputs": [
    {
     "name": "stderr",
     "output_type": "stream",
     "text": [
      "  1%|          | 4/512 [00:00<00:43, 11.66it/s]"
     ]
    },
    {
     "name": "stdout",
     "output_type": "stream",
     "text": [
      "tensor(51127.3789, device='cuda:0')\n",
      "tensor(52748.7148, device='cuda:0')\n",
      "tensor(55248.2461, device='cuda:0')\n",
      "tensor(57826.1289, device='cuda:0')\n"
     ]
    },
    {
     "name": "stderr",
     "output_type": "stream",
     "text": [
      "  2%|▏         | 8/512 [00:00<00:26, 19.32it/s]"
     ]
    },
    {
     "name": "stdout",
     "output_type": "stream",
     "text": [
      "tensor(60337.6172, device='cuda:0')\n",
      "tensor(62722.3398, device='cuda:0')\n",
      "tensor(64966.9102, device='cuda:0')\n",
      "tensor(67028.8906, device='cuda:0')\n",
      "tensor(68891.7266, device='cuda:0')\n",
      "tensor(70470.0625, device='cuda:0')\n",
      "tensor(71720.2188, device='cuda:0')\n"
     ]
    },
    {
     "name": "stderr",
     "output_type": "stream",
     "text": [
      "  3%|▎         | 16/512 [00:00<00:17, 28.87it/s]"
     ]
    },
    {
     "name": "stdout",
     "output_type": "stream",
     "text": [
      "tensor(72699.4531, device='cuda:0')\n",
      "tensor(73443.4766, device='cuda:0')\n",
      "tensor(74004.0469, device='cuda:0')\n",
      "tensor(74419.7422, device='cuda:0')\n",
      "tensor(74726.8516, device='cuda:0')\n",
      "tensor(74956.5625, device='cuda:0')\n",
      "tensor(75128.3594, device='cuda:0')\n",
      "tensor(75258.0625, device='cuda:0')\n"
     ]
    },
    {
     "name": "stderr",
     "output_type": "stream",
     "text": [
      "  5%|▍         | 24/512 [00:00<00:15, 32.14it/s]"
     ]
    },
    {
     "name": "stdout",
     "output_type": "stream",
     "text": [
      "tensor(75355.7812, device='cuda:0')\n",
      "tensor(75430.0547, device='cuda:0')\n",
      "tensor(75486.9766, device='cuda:0')\n",
      "tensor(75531.2031, device='cuda:0')\n",
      "tensor(75565.8203, device='cuda:0')\n",
      "tensor(75593.2031, device='cuda:0')\n",
      "tensor(75615.0547, device='cuda:0')\n",
      "tensor(75632.6719, device='cuda:0')\n"
     ]
    },
    {
     "name": "stderr",
     "output_type": "stream",
     "text": [
      "  6%|▋         | 32/512 [00:01<00:14, 34.04it/s]"
     ]
    },
    {
     "name": "stdout",
     "output_type": "stream",
     "text": [
      "tensor(75647.1875, device='cuda:0')\n",
      "tensor(75659.6250, device='cuda:0')\n",
      "tensor(75670.6562, device='cuda:0')\n",
      "tensor(75680.8125, device='cuda:0')\n",
      "tensor(75690.6094, device='cuda:0')\n",
      "tensor(75700.3984, device='cuda:0')\n",
      "tensor(75710.2266, device='cuda:0')\n"
     ]
    },
    {
     "name": "stderr",
     "output_type": "stream",
     "text": [
      "  8%|▊         | 40/512 [00:01<00:13, 35.22it/s]"
     ]
    },
    {
     "name": "stdout",
     "output_type": "stream",
     "text": [
      "tensor(75720.1953, device='cuda:0')\n",
      "tensor(75730.4375, device='cuda:0')\n",
      "tensor(75741.1250, device='cuda:0')\n",
      "tensor(75752.3516, device='cuda:0')\n",
      "tensor(75764.0703, device='cuda:0')\n",
      "tensor(75776.4922, device='cuda:0')\n",
      "tensor(75789.6016, device='cuda:0')\n"
     ]
    },
    {
     "name": "stderr",
     "output_type": "stream",
     "text": [
      "  9%|▉         | 48/512 [00:01<00:13, 35.62it/s]"
     ]
    },
    {
     "name": "stdout",
     "output_type": "stream",
     "text": [
      "tensor(75802.9453, device='cuda:0')\n",
      "tensor(75816.3672, device='cuda:0')\n",
      "tensor(75829.7578, device='cuda:0')\n",
      "tensor(75842.9531, device='cuda:0')\n",
      "tensor(75855.7500, device='cuda:0')\n",
      "tensor(75867.6172, device='cuda:0')\n",
      "tensor(75878.2891, device='cuda:0')\n",
      "tensor(75887.3828, device='cuda:0')\n"
     ]
    },
    {
     "name": "stderr",
     "output_type": "stream",
     "text": [
      " 11%|█         | 56/512 [00:01<00:12, 36.64it/s]"
     ]
    },
    {
     "name": "stdout",
     "output_type": "stream",
     "text": [
      "tensor(75898.6016, device='cuda:0')\n",
      "tensor(75946.0156, device='cuda:0')\n",
      "tensor(76015.6016, device='cuda:0')\n",
      "tensor(76093.7656, device='cuda:0')\n",
      "tensor(76173.1875, device='cuda:0')\n",
      "tensor(76247.4922, device='cuda:0')\n",
      "tensor(76316.4062, device='cuda:0')\n",
      "tensor(76380.1484, device='cuda:0')\n",
      "tensor(76437.3047, device='cuda:0')\n"
     ]
    },
    {
     "name": "stderr",
     "output_type": "stream",
     "text": [
      " 12%|█▎        | 64/512 [00:02<00:12, 36.38it/s]"
     ]
    },
    {
     "name": "stdout",
     "output_type": "stream",
     "text": [
      "tensor(76487.5078, device='cuda:0')\n",
      "tensor(76530.2969, device='cuda:0')\n",
      "tensor(76565.9766, device='cuda:0')\n",
      "tensor(76594.8984, device='cuda:0')\n",
      "tensor(76617.7422, device='cuda:0')\n",
      "tensor(76635.4297, device='cuda:0')\n",
      "tensor(76648.8672, device='cuda:0')\n",
      "tensor(76658.8438, device='cuda:0')\n"
     ]
    },
    {
     "name": "stderr",
     "output_type": "stream",
     "text": [
      " 14%|█▍        | 72/512 [00:02<00:12, 35.94it/s]"
     ]
    },
    {
     "name": "stdout",
     "output_type": "stream",
     "text": [
      "tensor(76666.0078, device='cuda:0')\n",
      "tensor(76670.8516, device='cuda:0')\n",
      "tensor(76673.7891, device='cuda:0')\n",
      "tensor(76675.1328, device='cuda:0')\n",
      "tensor(76675.1484, device='cuda:0')\n",
      "tensor(76675.1484, device='cuda:0')\n",
      "tensor(76675.1484, device='cuda:0')\n",
      "tensor(76675.1484, device='cuda:0')\n"
     ]
    },
    {
     "name": "stderr",
     "output_type": "stream",
     "text": [
      " 16%|█▌        | 80/512 [00:02<00:11, 36.35it/s]"
     ]
    },
    {
     "name": "stdout",
     "output_type": "stream",
     "text": [
      "tensor(76675.1484, device='cuda:0')\n",
      "tensor(76675.1484, device='cuda:0')\n",
      "tensor(76675.1484, device='cuda:0')\n",
      "tensor(76675.1484, device='cuda:0')\n",
      "tensor(76675.1484, device='cuda:0')\n",
      "tensor(76675.1484, device='cuda:0')\n",
      "tensor(76675.1484, device='cuda:0')\n",
      "tensor(76675.1484, device='cuda:0')\n"
     ]
    },
    {
     "name": "stderr",
     "output_type": "stream",
     "text": [
      " 17%|█▋        | 88/512 [00:02<00:11, 36.64it/s]"
     ]
    },
    {
     "name": "stdout",
     "output_type": "stream",
     "text": [
      "tensor(76675.1484, device='cuda:0')\n",
      "tensor(76675.1484, device='cuda:0')\n",
      "tensor(76675.1484, device='cuda:0')\n",
      "tensor(76675.1484, device='cuda:0')\n",
      "tensor(76675.1484, device='cuda:0')\n",
      "tensor(76675.1484, device='cuda:0')\n",
      "tensor(76675.1484, device='cuda:0')\n",
      "tensor(76675.1484, device='cuda:0')\n"
     ]
    },
    {
     "name": "stderr",
     "output_type": "stream",
     "text": [
      " 19%|█▉        | 96/512 [00:02<00:11, 36.72it/s]"
     ]
    },
    {
     "name": "stdout",
     "output_type": "stream",
     "text": [
      "tensor(76675.1484, device='cuda:0')\n",
      "tensor(76675.1484, device='cuda:0')\n",
      "tensor(76675.1484, device='cuda:0')\n",
      "tensor(76675.1484, device='cuda:0')\n",
      "tensor(76675.1484, device='cuda:0')\n",
      "tensor(76675.1484, device='cuda:0')\n",
      "tensor(76675.1484, device='cuda:0')\n",
      "tensor(76675.1484, device='cuda:0')\n"
     ]
    },
    {
     "name": "stderr",
     "output_type": "stream",
     "text": [
      " 20%|██        | 104/512 [00:03<00:10, 37.72it/s]"
     ]
    },
    {
     "name": "stdout",
     "output_type": "stream",
     "text": [
      "tensor(76675.1484, device='cuda:0')\n",
      "tensor(76675.1484, device='cuda:0')\n",
      "tensor(76675.1484, device='cuda:0')\n",
      "tensor(76675.1484, device='cuda:0')\n",
      "tensor(76675.1484, device='cuda:0')\n",
      "tensor(76675.1484, device='cuda:0')\n",
      "tensor(76675.1484, device='cuda:0')\n",
      "tensor(76675.1484, device='cuda:0')\n"
     ]
    },
    {
     "name": "stderr",
     "output_type": "stream",
     "text": [
      " 22%|██▏       | 112/512 [00:03<00:11, 36.07it/s]"
     ]
    },
    {
     "name": "stdout",
     "output_type": "stream",
     "text": [
      "tensor(76675.1484, device='cuda:0')\n",
      "tensor(76675.1484, device='cuda:0')\n",
      "tensor(76675.1484, device='cuda:0')\n",
      "tensor(76675.1484, device='cuda:0')\n",
      "tensor(76675.1484, device='cuda:0')\n",
      "tensor(76675.1484, device='cuda:0')\n",
      "tensor(76675.1484, device='cuda:0')\n"
     ]
    },
    {
     "name": "stderr",
     "output_type": "stream",
     "text": [
      " 23%|██▎       | 120/512 [00:03<00:11, 34.79it/s]"
     ]
    },
    {
     "name": "stdout",
     "output_type": "stream",
     "text": [
      "tensor(76675.1484, device='cuda:0')\n",
      "tensor(76675.1484, device='cuda:0')\n",
      "tensor(76675.1484, device='cuda:0')\n",
      "tensor(76675.1484, device='cuda:0')\n",
      "tensor(76675.1484, device='cuda:0')\n",
      "tensor(76674.1328, device='cuda:0')\n",
      "tensor(76672.2109, device='cuda:0')\n"
     ]
    },
    {
     "name": "stderr",
     "output_type": "stream",
     "text": [
      " 24%|██▍       | 124/512 [00:03<00:11, 33.56it/s]"
     ]
    },
    {
     "name": "stdout",
     "output_type": "stream",
     "text": [
      "tensor(76669.5234, device='cuda:0')\n",
      "tensor(76666.1250, device='cuda:0')\n",
      "tensor(76662.2188, device='cuda:0')\n",
      "tensor(76657.8984, device='cuda:0')\n",
      "tensor(76653.2188, device='cuda:0')\n",
      "tensor(76648.2344, device='cuda:0')\n",
      "tensor(76642.9922, device='cuda:0')\n"
     ]
    },
    {
     "name": "stderr",
     "output_type": "stream",
     "text": [
      " 26%|██▌       | 132/512 [00:03<00:11, 34.14it/s]"
     ]
    },
    {
     "name": "stdout",
     "output_type": "stream",
     "text": [
      "tensor(76637.5781, device='cuda:0')\n",
      "tensor(76632.0234, device='cuda:0')\n",
      "tensor(76626.3516, device='cuda:0')\n",
      "tensor(76620.5469, device='cuda:0')\n",
      "tensor(76614.6328, device='cuda:0')\n",
      "tensor(76608.6719, device='cuda:0')\n",
      "tensor(76602.5938, device='cuda:0')\n",
      "tensor(76596.4844, device='cuda:0')\n"
     ]
    },
    {
     "name": "stderr",
     "output_type": "stream",
     "text": [
      " 27%|██▋       | 140/512 [00:04<00:10, 34.34it/s]"
     ]
    },
    {
     "name": "stdout",
     "output_type": "stream",
     "text": [
      "tensor(76590.3203, device='cuda:0')\n",
      "tensor(76584.1094, device='cuda:0')\n",
      "tensor(76577.8594, device='cuda:0')\n",
      "tensor(76571.5312, device='cuda:0')\n",
      "tensor(76565.1250, device='cuda:0')\n",
      "tensor(76558.5234, device='cuda:0')\n",
      "tensor(76551.7578, device='cuda:0')\n",
      "tensor(76544.9219, device='cuda:0')\n"
     ]
    },
    {
     "name": "stderr",
     "output_type": "stream",
     "text": [
      " 29%|██▉       | 148/512 [00:04<00:10, 34.42it/s]"
     ]
    },
    {
     "name": "stdout",
     "output_type": "stream",
     "text": [
      "tensor(76538.0312, device='cuda:0')\n",
      "tensor(76531.1797, device='cuda:0')\n",
      "tensor(76524.5078, device='cuda:0')\n",
      "tensor(76518.0625, device='cuda:0')\n",
      "tensor(76511.9453, device='cuda:0')\n",
      "tensor(76506.1719, device='cuda:0')\n",
      "tensor(76500.7500, device='cuda:0')\n"
     ]
    },
    {
     "name": "stderr",
     "output_type": "stream",
     "text": [
      " 30%|███       | 156/512 [00:04<00:10, 34.22it/s]"
     ]
    },
    {
     "name": "stdout",
     "output_type": "stream",
     "text": [
      "tensor(76495.6641, device='cuda:0')\n",
      "tensor(76490.8984, device='cuda:0')\n",
      "tensor(76486.4609, device='cuda:0')\n",
      "tensor(76482.2422, device='cuda:0')\n",
      "tensor(76478.1484, device='cuda:0')\n",
      "tensor(76474.1328, device='cuda:0')\n",
      "tensor(76470.0703, device='cuda:0')\n",
      "tensor(76466.0156, device='cuda:0')\n"
     ]
    },
    {
     "name": "stderr",
     "output_type": "stream",
     "text": [
      " 32%|███▏      | 164/512 [00:04<00:10, 34.10it/s]"
     ]
    },
    {
     "name": "stdout",
     "output_type": "stream",
     "text": [
      "tensor(76461.9688, device='cuda:0')\n",
      "tensor(76457.8906, device='cuda:0')\n",
      "tensor(76453.8359, device='cuda:0')\n",
      "tensor(76449.7031, device='cuda:0')\n",
      "tensor(76445.5312, device='cuda:0')\n",
      "tensor(76441.3438, device='cuda:0')\n",
      "tensor(76437.1250, device='cuda:0')\n"
     ]
    },
    {
     "name": "stderr",
     "output_type": "stream",
     "text": [
      " 34%|███▎      | 172/512 [00:05<00:10, 33.96it/s]"
     ]
    },
    {
     "name": "stdout",
     "output_type": "stream",
     "text": [
      "tensor(76432.8672, device='cuda:0')\n",
      "tensor(76428.5781, device='cuda:0')\n",
      "tensor(76424.2734, device='cuda:0')\n",
      "tensor(76419.9297, device='cuda:0')\n",
      "tensor(76415.5625, device='cuda:0')\n",
      "tensor(76411.1562, device='cuda:0')\n",
      "tensor(76406.7109, device='cuda:0')\n"
     ]
    },
    {
     "name": "stderr",
     "output_type": "stream",
     "text": [
      " 34%|███▍      | 176/512 [00:05<00:09, 33.77it/s]"
     ]
    },
    {
     "name": "stdout",
     "output_type": "stream",
     "text": [
      "tensor(76402.2500, device='cuda:0')\n",
      "tensor(76397.7812, device='cuda:0')\n",
      "tensor(76393.3203, device='cuda:0')\n",
      "tensor(76388.8672, device='cuda:0')\n",
      "tensor(76384.4297, device='cuda:0')\n",
      "tensor(76380.0234, device='cuda:0')\n"
     ]
    },
    {
     "name": "stderr",
     "output_type": "stream",
     "text": [
      " 36%|███▌      | 184/512 [00:05<00:09, 33.86it/s]"
     ]
    },
    {
     "name": "stdout",
     "output_type": "stream",
     "text": [
      "tensor(76375.6484, device='cuda:0')\n",
      "tensor(76371.3281, device='cuda:0')\n",
      "tensor(76367.0703, device='cuda:0')\n",
      "tensor(76362.8672, device='cuda:0')\n",
      "tensor(76358.6875, device='cuda:0')\n",
      "tensor(76354.5391, device='cuda:0')\n",
      "tensor(76350.4531, device='cuda:0')\n",
      "tensor(76346.4062, device='cuda:0')\n"
     ]
    },
    {
     "name": "stderr",
     "output_type": "stream",
     "text": [
      " 38%|███▊      | 192/512 [00:05<00:09, 34.05it/s]"
     ]
    },
    {
     "name": "stdout",
     "output_type": "stream",
     "text": [
      "tensor(76342.3984, device='cuda:0')\n",
      "tensor(76338.4141, device='cuda:0')\n",
      "tensor(76334.4453, device='cuda:0')\n",
      "tensor(76330.5156, device='cuda:0')\n",
      "tensor(76326.6641, device='cuda:0')\n",
      "tensor(76322.8906, device='cuda:0')\n",
      "tensor(76319.2422, device='cuda:0')\n",
      "tensor(76315.6953, device='cuda:0')\n"
     ]
    },
    {
     "name": "stderr",
     "output_type": "stream",
     "text": [
      " 39%|███▉      | 200/512 [00:05<00:09, 34.24it/s]"
     ]
    },
    {
     "name": "stdout",
     "output_type": "stream",
     "text": [
      "tensor(76312.2344, device='cuda:0')\n",
      "tensor(76308.8984, device='cuda:0')\n",
      "tensor(76305.6328, device='cuda:0')\n",
      "tensor(76302.4922, device='cuda:0')\n",
      "tensor(76299.4531, device='cuda:0')\n",
      "tensor(76296.4844, device='cuda:0')\n",
      "tensor(76293.5859, device='cuda:0')\n",
      "tensor(76290.7422, device='cuda:0')\n"
     ]
    },
    {
     "name": "stderr",
     "output_type": "stream",
     "text": [
      " 41%|████      | 208/512 [00:06<00:08, 33.99it/s]"
     ]
    },
    {
     "name": "stdout",
     "output_type": "stream",
     "text": [
      "tensor(76287.9844, device='cuda:0')\n",
      "tensor(76285.2734, device='cuda:0')\n",
      "tensor(76282.6250, device='cuda:0')\n",
      "tensor(76280.0156, device='cuda:0')\n",
      "tensor(76277.4688, device='cuda:0')\n",
      "tensor(76274.9766, device='cuda:0')\n",
      "tensor(76272.5312, device='cuda:0')\n",
      "tensor(76270.1484, device='cuda:0')\n"
     ]
    },
    {
     "name": "stderr",
     "output_type": "stream",
     "text": [
      " 42%|████▏     | 216/512 [00:06<00:08, 33.85it/s]"
     ]
    },
    {
     "name": "stdout",
     "output_type": "stream",
     "text": [
      "tensor(76267.7969, device='cuda:0')\n",
      "tensor(76265.5078, device='cuda:0')\n",
      "tensor(76263.2188, device='cuda:0')\n",
      "tensor(76260.9688, device='cuda:0')\n",
      "tensor(76258.7422, device='cuda:0')\n",
      "tensor(76256.5625, device='cuda:0')\n",
      "tensor(76254.3984, device='cuda:0')\n"
     ]
    },
    {
     "name": "stderr",
     "output_type": "stream",
     "text": [
      " 44%|████▍     | 224/512 [00:06<00:08, 32.89it/s]"
     ]
    },
    {
     "name": "stdout",
     "output_type": "stream",
     "text": [
      "tensor(76252.2578, device='cuda:0')\n",
      "tensor(76250.1641, device='cuda:0')\n",
      "tensor(76248.1016, device='cuda:0')\n",
      "tensor(76246.0547, device='cuda:0')\n",
      "tensor(76244.0234, device='cuda:0')\n",
      "tensor(76242.0469, device='cuda:0')\n",
      "tensor(76240.1172, device='cuda:0')\n"
     ]
    },
    {
     "name": "stderr",
     "output_type": "stream",
     "text": [
      " 45%|████▍     | 228/512 [00:06<00:08, 32.82it/s]"
     ]
    },
    {
     "name": "stdout",
     "output_type": "stream",
     "text": [
      "tensor(76238.2344, device='cuda:0')\n",
      "tensor(76236.3672, device='cuda:0')\n",
      "tensor(76234.5781, device='cuda:0')\n",
      "tensor(76232.8203, device='cuda:0')\n",
      "tensor(76231.1094, device='cuda:0')\n",
      "tensor(76229.4375, device='cuda:0')\n"
     ]
    },
    {
     "name": "stderr",
     "output_type": "stream",
     "text": [
      " 46%|████▌     | 236/512 [00:07<00:08, 32.70it/s]"
     ]
    },
    {
     "name": "stdout",
     "output_type": "stream",
     "text": [
      "tensor(76227.7734, device='cuda:0')\n",
      "tensor(76226.1328, device='cuda:0')\n",
      "tensor(76224.5234, device='cuda:0')\n",
      "tensor(76222.9453, device='cuda:0')\n",
      "tensor(76221.3984, device='cuda:0')\n",
      "tensor(76219.8594, device='cuda:0')\n",
      "tensor(76218.3594, device='cuda:0')\n"
     ]
    },
    {
     "name": "stderr",
     "output_type": "stream",
     "text": [
      " 48%|████▊     | 244/512 [00:07<00:08, 33.07it/s]"
     ]
    },
    {
     "name": "stdout",
     "output_type": "stream",
     "text": [
      "tensor(76216.8516, device='cuda:0')\n",
      "tensor(76215.3750, device='cuda:0')\n",
      "tensor(76213.9453, device='cuda:0')\n",
      "tensor(76212.5156, device='cuda:0')\n",
      "tensor(76211.1094, device='cuda:0')\n",
      "tensor(76209.7344, device='cuda:0')\n",
      "tensor(76208.3984, device='cuda:0')\n"
     ]
    },
    {
     "name": "stderr",
     "output_type": "stream",
     "text": [
      " 48%|████▊     | 248/512 [00:07<00:07, 33.57it/s]"
     ]
    },
    {
     "name": "stdout",
     "output_type": "stream",
     "text": [
      "tensor(76207.0625, device='cuda:0')\n",
      "tensor(76205.7500, device='cuda:0')\n",
      "tensor(76204.4688, device='cuda:0')\n",
      "tensor(76203.2031, device='cuda:0')\n",
      "tensor(76201.9453, device='cuda:0')\n",
      "tensor(76200.7266, device='cuda:0')\n",
      "tensor(76199.5156, device='cuda:0')\n"
     ]
    },
    {
     "name": "stderr",
     "output_type": "stream",
     "text": [
      " 50%|█████     | 256/512 [00:07<00:07, 32.81it/s]"
     ]
    },
    {
     "name": "stdout",
     "output_type": "stream",
     "text": [
      "tensor(76198.3359, device='cuda:0')\n",
      "tensor(76197.1562, device='cuda:0')\n",
      "tensor(76196.0234, device='cuda:0')\n",
      "tensor(76194.8750, device='cuda:0')\n",
      "tensor(76193.7422, device='cuda:0')\n",
      "tensor(76192.6094, device='cuda:0')\n",
      "tensor(76191.5078, device='cuda:0')\n"
     ]
    },
    {
     "name": "stderr",
     "output_type": "stream",
     "text": [
      " 52%|█████▏    | 264/512 [00:07<00:07, 31.89it/s]"
     ]
    },
    {
     "name": "stdout",
     "output_type": "stream",
     "text": [
      "tensor(76190.4219, device='cuda:0')\n",
      "tensor(76189.3359, device='cuda:0')\n",
      "tensor(76188.2422, device='cuda:0')\n",
      "tensor(76187.1719, device='cuda:0')\n",
      "tensor(76186.1016, device='cuda:0')\n",
      "tensor(76185.0391, device='cuda:0')\n",
      "tensor(76183.9766, device='cuda:0')\n"
     ]
    },
    {
     "name": "stderr",
     "output_type": "stream",
     "text": [
      " 53%|█████▎    | 272/512 [00:08<00:07, 31.24it/s]"
     ]
    },
    {
     "name": "stdout",
     "output_type": "stream",
     "text": [
      "tensor(76182.9219, device='cuda:0')\n",
      "tensor(76181.8906, device='cuda:0')\n",
      "tensor(76180.8438, device='cuda:0')\n",
      "tensor(76179.8359, device='cuda:0')\n",
      "tensor(76178.8516, device='cuda:0')\n",
      "tensor(76177.8594, device='cuda:0')\n",
      "tensor(76176.8750, device='cuda:0')\n"
     ]
    },
    {
     "name": "stderr",
     "output_type": "stream",
     "text": [
      " 54%|█████▍    | 276/512 [00:08<00:07, 31.54it/s]"
     ]
    },
    {
     "name": "stdout",
     "output_type": "stream",
     "text": [
      "tensor(76175.9219, device='cuda:0')\n",
      "tensor(76174.9609, device='cuda:0')\n",
      "tensor(76174.0312, device='cuda:0')\n",
      "tensor(76173.1016, device='cuda:0')\n",
      "tensor(76172.1953, device='cuda:0')\n",
      "tensor(76171.2891, device='cuda:0')\n",
      "tensor(76170.3906, device='cuda:0')\n"
     ]
    },
    {
     "name": "stderr",
     "output_type": "stream",
     "text": [
      " 55%|█████▌    | 284/512 [00:08<00:07, 32.50it/s]"
     ]
    },
    {
     "name": "stdout",
     "output_type": "stream",
     "text": [
      "tensor(76169.5156, device='cuda:0')\n",
      "tensor(76168.6719, device='cuda:0')\n",
      "tensor(76167.8203, device='cuda:0')\n",
      "tensor(76166.9766, device='cuda:0')\n",
      "tensor(76166.1484, device='cuda:0')\n",
      "tensor(76165.3359, device='cuda:0')\n",
      "tensor(76164.5234, device='cuda:0')\n"
     ]
    },
    {
     "name": "stderr",
     "output_type": "stream",
     "text": [
      " 57%|█████▋    | 292/512 [00:08<00:06, 31.84it/s]"
     ]
    },
    {
     "name": "stdout",
     "output_type": "stream",
     "text": [
      "tensor(76163.7188, device='cuda:0')\n",
      "tensor(76162.9375, device='cuda:0')\n",
      "tensor(76162.1719, device='cuda:0')\n",
      "tensor(76161.3984, device='cuda:0')\n",
      "tensor(76160.6406, device='cuda:0')\n",
      "tensor(76159.8906, device='cuda:0')\n",
      "tensor(76159.1641, device='cuda:0')\n"
     ]
    },
    {
     "name": "stderr",
     "output_type": "stream",
     "text": [
      " 59%|█████▊    | 300/512 [00:09<00:06, 33.61it/s]"
     ]
    },
    {
     "name": "stdout",
     "output_type": "stream",
     "text": [
      "tensor(76158.4219, device='cuda:0')\n",
      "tensor(76157.7031, device='cuda:0')\n",
      "tensor(76157., device='cuda:0')\n",
      "tensor(76156.3125, device='cuda:0')\n",
      "tensor(76155.6172, device='cuda:0')\n",
      "tensor(76154.9531, device='cuda:0')\n",
      "tensor(76154.2812, device='cuda:0')\n",
      "tensor(76153.6094, device='cuda:0')\n"
     ]
    },
    {
     "name": "stderr",
     "output_type": "stream",
     "text": [
      " 60%|██████    | 308/512 [00:09<00:06, 33.15it/s]"
     ]
    },
    {
     "name": "stdout",
     "output_type": "stream",
     "text": [
      "tensor(76152.9844, device='cuda:0')\n",
      "tensor(76152.3516, device='cuda:0')\n",
      "tensor(76151.7188, device='cuda:0')\n",
      "tensor(76151.1094, device='cuda:0')\n",
      "tensor(76150.4922, device='cuda:0')\n",
      "tensor(76149.8828, device='cuda:0')\n",
      "tensor(76149.2812, device='cuda:0')\n"
     ]
    },
    {
     "name": "stderr",
     "output_type": "stream",
     "text": [
      " 61%|██████    | 312/512 [00:09<00:06, 32.96it/s]"
     ]
    },
    {
     "name": "stdout",
     "output_type": "stream",
     "text": [
      "tensor(76148.7031, device='cuda:0')\n",
      "tensor(76148.1172, device='cuda:0')\n",
      "tensor(76147.5547, device='cuda:0')\n",
      "tensor(76147., device='cuda:0')\n",
      "tensor(76146.4375, device='cuda:0')\n",
      "tensor(76145.8828, device='cuda:0')\n",
      "tensor(76145.3438, device='cuda:0')\n"
     ]
    },
    {
     "name": "stderr",
     "output_type": "stream",
     "text": [
      " 62%|██████▎   | 320/512 [00:09<00:05, 32.87it/s]"
     ]
    }
   ],
   "source": [
    "init_img = proc.pil_to_tensor(Image.open(\"test.png\").convert('RGB').resize((RESOLUTION_WIDTH, RESOLUTION_HEIGHT))).to(run_device)\n",
    "\n",
    "frames = generate_frames(512).detach().cpu()\n",
    "torch.cuda.empty_cache()\n",
    "save_video(frames)"
   ]
  },
  {
   "cell_type": "code",
   "execution_count": null,
   "metadata": {},
   "outputs": [
    {
     "ename": "ZeroDivisionError",
     "evalue": "division by zero",
     "output_type": "error",
     "traceback": [
      "\u001b[31m---------------------------------------------------------------------------\u001b[39m",
      "\u001b[31mZeroDivisionError\u001b[39m                         Traceback (most recent call last)",
      "\u001b[36mCell\u001b[39m\u001b[36m \u001b[39m\u001b[32mIn[9]\u001b[39m\u001b[32m, line 1\u001b[39m\n\u001b[32m----> \u001b[39m\u001b[32m1\u001b[39m \u001b[32;43m1\u001b[39;49m\u001b[43m \u001b[49m\u001b[43m/\u001b[49m\u001b[43m \u001b[49m\u001b[32;43m0\u001b[39;49m\n",
      "\u001b[31mZeroDivisionError\u001b[39m: division by zero"
     ]
    }
   ],
   "source": [
    "1 / 0"
   ]
  },
  {
   "cell_type": "code",
   "execution_count": null,
   "metadata": {},
   "outputs": [
    {
     "data": {
      "text/plain": [
       "torch.Size([560, 3, 128, 128])"
      ]
     },
     "execution_count": 9,
     "metadata": {},
     "output_type": "execute_result"
    }
   ],
   "source": [
    "frames.shape"
   ]
  },
  {
   "cell_type": "code",
   "execution_count": null,
   "metadata": {},
   "outputs": [],
   "source": [
    "img = Image.open(\"test.png\").convert('RGB').resize((RESOLUTION_WIDTH, RESOLUTION_HEIGHT))"
   ]
  },
  {
   "cell_type": "code",
   "execution_count": null,
   "metadata": {},
   "outputs": [],
   "source": [
    "enc_img = proc.pil_to_tensor(img).to(run_device).unsqueeze(0)"
   ]
  },
  {
   "cell_type": "code",
   "execution_count": null,
   "metadata": {},
   "outputs": [
    {
     "ename": "NameError",
     "evalue": "name 'autoenc' is not defined",
     "output_type": "error",
     "traceback": [
      "\u001b[31m---------------------------------------------------------------------------\u001b[39m",
      "\u001b[31mNameError\u001b[39m                                 Traceback (most recent call last)",
      "\u001b[36mCell\u001b[39m\u001b[36m \u001b[39m\u001b[32mIn[12]\u001b[39m\u001b[32m, line 1\u001b[39m\n\u001b[32m----> \u001b[39m\u001b[32m1\u001b[39m latent = \u001b[43mautoenc\u001b[49m.encode(enc_img)\n",
      "\u001b[31mNameError\u001b[39m: name 'autoenc' is not defined"
     ]
    }
   ],
   "source": [
    "latent = autoenc.encode(enc_img)"
   ]
  },
  {
   "cell_type": "code",
   "execution_count": null,
   "metadata": {},
   "outputs": [],
   "source": [
    "prediction = transformer(inputs_embeds=latent).last_hidden_state"
   ]
  },
  {
   "cell_type": "code",
   "execution_count": null,
   "id": "636f8152",
   "metadata": {},
   "outputs": [],
   "source": [
    "decoded = autoenc.decode(prediction)"
   ]
  },
  {
   "cell_type": "code",
   "execution_count": null,
   "metadata": {},
   "outputs": [],
   "source": [
    "proc.tensor_to_pil(decoded.squeeze(0))"
   ]
  },
  {
   "cell_type": "code",
   "execution_count": null,
   "metadata": {},
   "outputs": [
    {
     "data": {
      "text/plain": [
       "tensor([[[0.4941, 0.4980, 0.4980,  ..., 0.4157, 0.4157, 0.4157],\n",
       "         [0.4980, 0.5020, 0.4980,  ..., 0.4196, 0.4196, 0.4196],\n",
       "         [0.4980, 0.5020, 0.5059,  ..., 0.4196, 0.4157, 0.4196],\n",
       "         ...,\n",
       "         [0.4314, 0.3804, 0.4667,  ..., 0.2784, 0.3804, 0.3686],\n",
       "         [0.6471, 0.6235, 0.5843,  ..., 0.2627, 0.2706, 0.2196],\n",
       "         [0.4588, 0.4196, 0.2902,  ..., 0.3020, 0.2784, 0.2784]],\n",
       "\n",
       "        [[0.6745, 0.6745, 0.6784,  ..., 0.6196, 0.6196, 0.6235],\n",
       "         [0.6784, 0.6824, 0.6784,  ..., 0.6275, 0.6275, 0.6275],\n",
       "         [0.6784, 0.6824, 0.6863,  ..., 0.6275, 0.6235, 0.6275],\n",
       "         ...,\n",
       "         [0.4510, 0.4039, 0.4980,  ..., 0.3294, 0.4275, 0.4039],\n",
       "         [0.6863, 0.6706, 0.6353,  ..., 0.3216, 0.3255, 0.2706],\n",
       "         [0.5137, 0.4667, 0.3176,  ..., 0.3765, 0.3490, 0.3529]],\n",
       "\n",
       "        [[0.8392, 0.8392, 0.8392,  ..., 0.8392, 0.8353, 0.8314],\n",
       "         [0.8353, 0.8353, 0.8392,  ..., 0.8431, 0.8392, 0.8353],\n",
       "         [0.8353, 0.8392, 0.8431,  ..., 0.8392, 0.8392, 0.8353],\n",
       "         ...,\n",
       "         [0.1059, 0.0706, 0.1333,  ..., 0.1294, 0.2039, 0.1765],\n",
       "         [0.1686, 0.1569, 0.1686,  ..., 0.1294, 0.1255, 0.0588],\n",
       "         [0.0863, 0.0784, 0.0667,  ..., 0.1686, 0.1490, 0.1333]]],\n",
       "       device='cuda:0')"
      ]
     },
     "execution_count": 17,
     "metadata": {},
     "output_type": "execute_result"
    }
   ],
   "source": [
    "init_img"
   ]
  },
  {
   "cell_type": "code",
   "execution_count": null,
   "metadata": {},
   "outputs": [],
   "source": []
  }
 ],
 "metadata": {
  "kernelspec": {
   "display_name": "condavnv",
   "language": "python",
   "name": "python3"
  },
  "language_info": {
   "codemirror_mode": {
    "name": "ipython",
    "version": 3
   },
   "file_extension": ".py",
   "mimetype": "text/x-python",
   "name": "python",
   "nbconvert_exporter": "python",
   "pygments_lexer": "ipython3",
   "version": "3.12.9"
  }
 },
 "nbformat": 4,
 "nbformat_minor": 5
}
