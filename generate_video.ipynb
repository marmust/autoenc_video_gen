{
 "cells": [
  {
   "cell_type": "code",
   "execution_count": 1,
   "id": "d08006c1",
   "metadata": {},
   "outputs": [],
   "source": [
    "import torch\n",
    "import torch.nn as nn\n",
    "import torch.nn.functional as F\n",
    "from transformers import GPT2Model, GPT2LMHeadModel\n",
    "import imageio, os\n",
    "from torchvision import transforms\n",
    "from PIL import Image\n",
    "import numpy as np\n",
    "from tqdm import tqdm\n",
    "\n",
    "run_device = torch.device('cuda' if torch.cuda.is_available() else 'cpu')"
   ]
  },
  {
   "cell_type": "code",
   "execution_count": 2,
   "id": "48baee2f",
   "metadata": {},
   "outputs": [],
   "source": [
    "# video settings\n",
    "RESOLUTION_WIDTH = 128\n",
    "RESOLUTION_HEIGHT = 128\n",
    "CHANNELS = 3\n",
    "CONVERTED_FRAMERATE = 16\n",
    "\n",
    "# model settings\n",
    "WINDOW_SIZE = 46\n",
    "ENCODED_DIM = 768"
   ]
  },
  {
   "cell_type": "code",
   "execution_count": 3,
   "id": "b173c3bf",
   "metadata": {},
   "outputs": [],
   "source": [
    "class ResidualBlock(nn.Module):\n",
    "    def __init__(self, channels):\n",
    "        super().__init__()\n",
    "        self.block = nn.Sequential(\n",
    "            nn.Conv2d(channels, channels, 3, 1, 1),\n",
    "            nn.ReLU(inplace=True),\n",
    "            nn.Conv2d(channels, channels, 3, 1, 1)\n",
    "        )\n",
    "    def forward(self, x):\n",
    "        return x + self.block(x)\n",
    "\n",
    "class ConvAutoencoder(nn.Module):\n",
    "    def __init__(self, in_channels=CHANNELS, latent_dim=ENCODED_DIM, input_resolution=(RESOLUTION_WIDTH, RESOLUTION_HEIGHT)):\n",
    "        super().__init__()\n",
    "        self.latent_dim = latent_dim\n",
    "\n",
    "        self.encoder = nn.Sequential(\n",
    "            nn.Conv2d(in_channels, 32, 4, 2, 1),  # 64x64\n",
    "            nn.ReLU(),\n",
    "            nn.Conv2d(32, 64, 4, 2, 1),           # 32x32\n",
    "            nn.ReLU(),\n",
    "            ResidualBlock(64),\n",
    "            nn.Conv2d(64, 128, 4, 2, 1),          # 16x16\n",
    "            nn.ReLU(),\n",
    "            nn.Conv2d(128, 256, 4, 2, 1),         # 8x8\n",
    "            nn.ReLU()\n",
    "        )\n",
    "\n",
    "        # dynamically compute shape of whatever comes out of the conv block\n",
    "        with torch.no_grad():\n",
    "            dummy = torch.zeros(1, in_channels, *input_resolution)\n",
    "            enc_out = self.encoder(dummy)\n",
    "            self.flattened_size = enc_out.view(1, -1).shape[1]\n",
    "\n",
    "        self.encoder_fc = nn.Linear(self.flattened_size, latent_dim)\n",
    "        self.decoder_fc = nn.Linear(latent_dim, self.flattened_size)\n",
    "\n",
    "        self.decoder = nn.Sequential(\n",
    "            nn.Unflatten(1, enc_out.shape[1:]),\n",
    "            nn.ConvTranspose2d(256, 128, 4, 2, 1),  # 16x16\n",
    "            nn.ReLU(),\n",
    "            nn.ConvTranspose2d(128, 64, 4, 2, 1),   # 32x32\n",
    "            nn.ReLU(),\n",
    "            ResidualBlock(64),\n",
    "            nn.ConvTranspose2d(64, 32, 4, 2, 1),    # 64x64\n",
    "            nn.ReLU(),\n",
    "            nn.ConvTranspose2d(32, in_channels, 4, 2, 1),  # 128x128\n",
    "            nn.Tanh()\n",
    "        )\n",
    "\n",
    "    def encode(self, x):\n",
    "        x = self.encoder(x)\n",
    "        x = torch.flatten(x, 1)\n",
    "        x = torch.tanh(self.encoder_fc(x))\n",
    "        \n",
    "        return x\n",
    "\n",
    "    def decode(self, z):\n",
    "        z = self.decoder_fc(z)\n",
    "        z = torch.sigmoid(self.decoder(z))\n",
    "        \n",
    "        return z"
   ]
  },
  {
   "cell_type": "code",
   "execution_count": 4,
   "id": "732a7cf6",
   "metadata": {},
   "outputs": [],
   "source": [
    "class ImageProcessor:\n",
    "    def __init__(self):\n",
    "        # Input: PIL -> Tensor in [0, 1]\n",
    "        self.pil_to_tensor_transform = transforms.ToTensor()\n",
    "\n",
    "        # Output: Tensor in [0, 1] -> PIL\n",
    "        self.tensor_to_pil_transform = transforms.Compose([\n",
    "            transforms.Lambda(lambda x: x.clamp(0, 1)),  # Ensure [0, 1]\n",
    "            transforms.Lambda(lambda x: (x * 255).byte()),\n",
    "            transforms.Lambda(lambda x: x.permute(1, 2, 0).cpu().numpy()),\n",
    "            transforms.Lambda(lambda x: Image.fromarray(x))\n",
    "        ])\n",
    "\n",
    "    def pil_to_tensor(self, image: Image.Image) -> torch.Tensor:\n",
    "        \"\"\"\n",
    "        Convert a PIL Image to a PyTorch tensor in [0, 1], shape (C, H, W).\n",
    "        \"\"\"\n",
    "        return self.pil_to_tensor_transform(image)\n",
    "\n",
    "    def tensor_to_pil(self, image_tensor: torch.Tensor) -> Image.Image:\n",
    "        \"\"\"\n",
    "        Convert a tensor (C, H, W) in [0, 1] to a PIL Image.\n",
    "        \"\"\"\n",
    "        return self.tensor_to_pil_transform(image_tensor)"
   ]
  },
  {
   "cell_type": "code",
   "execution_count": 5,
   "id": "59577264",
   "metadata": {},
   "outputs": [],
   "source": [
    "# Load the autoencoder\n",
    "autoencoder = ConvAutoencoder()\n",
    "autoenced_state_dict = torch.load(\"checkpoints/exp12/autoencoder.pth\", map_location=run_device)\n",
    "autoencoder.load_state_dict(autoenced_state_dict)\n",
    "autoencoder = autoencoder.to(run_device).eval()\n",
    "\n",
    "# load the transformer\n",
    "transformer = GPT2LMHeadModel.from_pretrained(\"checkpoints/exp12/gpt2_transformer\").transformer\n",
    "transformer = transformer.to(run_device).eval()\n",
    "\n",
    "# Load image processor\n",
    "proc = ImageProcessor()"
   ]
  },
  {
   "cell_type": "code",
   "execution_count": 6,
   "metadata": {},
   "outputs": [],
   "source": [
    "def generate_frames(num_frames, initial_frame=None, initial_frame_length=WINDOW_SIZE, context_length=WINDOW_SIZE, autoencoder=autoencoder, transformer=transformer):\n",
    "    autoencoder.eval()\n",
    "    transformer.eval()\n",
    "    \n",
    "    total_seq = torch.zeros(num_frames + context_length, CHANNELS, RESOLUTION_HEIGHT, RESOLUTION_WIDTH, device=run_device)\n",
    "\n",
    "    if initial_frame is not None:\n",
    "        initial_frame = initial_frame.to(run_device)\n",
    "        initial_frame = initial_frame.repeat(initial_frame_length, 1, 1, 1)  # shape: (initial_frame_length, C, H, W)\n",
    "        total_seq[:initial_frame_length] = initial_frame\n",
    "\n",
    "    with torch.no_grad():\n",
    "        for i in tqdm(range(num_frames)):\n",
    "            current_slice = total_seq[i:i + context_length]\n",
    "            \n",
    "            slice_latents = autoencoder.encode(current_slice)\n",
    "            \n",
    "            slice_latents += (torch.rand(slice_latents.shape, device=run_device) * 2 - 1) * 0.0\n",
    "            \n",
    "            prediction_latents = transformer(inputs_embeds=slice_latents.unsqueeze(0)).last_hidden_state\n",
    "            \n",
    "            prediction_frame = autoencoder.decode(prediction_latents.squeeze(0))  # shape: (context_length, C, H, W)\n",
    "            \n",
    "            # normalize prediction_frame to [0, 1], anything to make it passable 😭🙏\n",
    "            prediction_frame -= prediction_frame.min()\n",
    "            prediction_frame /= prediction_frame.max()\n",
    "            \n",
    "            total_seq[context_length + i] = prediction_frame[-1]\n",
    "    \n",
    "    return total_seq"
   ]
  },
  {
   "cell_type": "code",
   "execution_count": 7,
   "metadata": {},
   "outputs": [],
   "source": [
    "def save_video(frames, output='test.mp4', fps=CONVERTED_FRAMERATE):\n",
    "    writer = imageio.get_writer(output, fps=fps)\n",
    "    for frame in tqdm(frames):\n",
    "        img = frame.permute(1,2,0).numpy()\n",
    "        img = (img * 255).astype('uint8')\n",
    "        writer.append_data(img)\n",
    "    writer.close()\n",
    "    print(f'Saved {output}')"
   ]
  },
  {
   "cell_type": "code",
   "execution_count": 8,
   "id": "6ae1884e",
   "metadata": {},
   "outputs": [
    {
     "name": "stderr",
     "output_type": "stream",
     "text": [
      "100%|██████████| 512/512 [00:13<00:00, 37.69it/s]\n",
      "100%|██████████| 558/558 [00:00<00:00, 2789.99it/s]"
     ]
    },
    {
     "name": "stdout",
     "output_type": "stream",
     "text": [
      "Saved test.mp4\n"
     ]
    },
    {
     "name": "stderr",
     "output_type": "stream",
     "text": [
      "\n"
     ]
    }
   ],
   "source": [
    "init_img = proc.pil_to_tensor(Image.open(\"sample_images/20087.jpg\").convert('RGB').resize((RESOLUTION_WIDTH, RESOLUTION_HEIGHT))).to(run_device)\n",
    "\n",
    "frames = generate_frames(512, initial_frame=init_img).detach().cpu()\n",
    "torch.cuda.empty_cache()\n",
    "save_video(frames)"
   ]
  },
  {
   "cell_type": "code",
   "execution_count": null,
   "metadata": {},
   "outputs": [],
   "source": []
  }
 ],
 "metadata": {
  "kernelspec": {
   "display_name": "condavnv",
   "language": "python",
   "name": "python3"
  },
  "language_info": {
   "codemirror_mode": {
    "name": "ipython",
    "version": 3
   },
   "file_extension": ".py",
   "mimetype": "text/x-python",
   "name": "python",
   "nbconvert_exporter": "python",
   "pygments_lexer": "ipython3",
   "version": "3.12.9"
  }
 },
 "nbformat": 4,
 "nbformat_minor": 5
}
