{
 "cells": [
  {
   "cell_type": "code",
   "execution_count": 1,
   "metadata": {},
   "outputs": [],
   "source": [
    "import os\n",
    "from yt_dlp import YoutubeDL\n",
    "from tqdm import tqdm"
   ]
  },
  {
   "cell_type": "code",
   "execution_count": 2,
   "metadata": {},
   "outputs": [],
   "source": [
    "LINKS_FILE = \"links.txt\"\n",
    "OUTPUT_DIR = \"video_dataset\"\n",
    "\n",
    "# Ensure output directory exists\n",
    "os.makedirs(OUTPUT_DIR, exist_ok=True)"
   ]
  },
  {
   "cell_type": "code",
   "execution_count": 3,
   "metadata": {},
   "outputs": [],
   "source": [
    "# Read links ignoring comments and blanks\n",
    "def read_links():\n",
    "    if not os.path.exists(LINKS_FILE):\n",
    "        print(f\"File {LINKS_FILE} not found.\")\n",
    "        return []\n",
    "    with open(LINKS_FILE, 'r') as f:\n",
    "        return [line.strip() for line in f if line.strip() and not line.strip().startswith('#')]"
   ]
  },
  {
   "cell_type": "code",
   "execution_count": 4,
   "metadata": {},
   "outputs": [],
   "source": [
    "# Tqdm progress hook class\n",
    "class TqdmHook:\n",
    "    def __init__(self, tqdm_bar):\n",
    "        self.pbar = tqdm_bar\n",
    "\n",
    "    def hook(self, d):\n",
    "        if d['status'] == 'downloading':\n",
    "            downloaded = d.get('downloaded_bytes', 0)\n",
    "            total = d.get('total_bytes') or d.get('total_bytes_estimate')\n",
    "            if total and self.pbar.total != total:\n",
    "                self.pbar.total = total\n",
    "            self.pbar.n = downloaded\n",
    "            self.pbar.refresh()\n",
    "        elif d['status'] == 'finished':\n",
    "            self.pbar.n = self.pbar.total\n",
    "            self.pbar.refresh()\n",
    "            self.pbar.close()"
   ]
  },
  {
   "cell_type": "code",
   "execution_count": 5,
   "metadata": {},
   "outputs": [],
   "source": [
    "# Download with progress, and skip if file exists\n",
    "def download_video_with_progress(url, index, total):\n",
    "    try:\n",
    "        # Get metadata (title, etc.)\n",
    "        ydl_info_opts = {'quiet': True, 'skip_download': True}\n",
    "        with YoutubeDL(ydl_info_opts) as ydl:\n",
    "            info = ydl.extract_info(url, download=False)\n",
    "            title = info.get('title', 'video')\n",
    "            filename = f\"{title}.mp4\"\n",
    "            filepath = os.path.join(OUTPUT_DIR, filename)\n",
    "\n",
    "        if os.path.exists(filepath):\n",
    "            print(f\"✅ [{index}/{total}] Skipped: {filename} (already exists)\")\n",
    "            return\n",
    "\n",
    "        # Start download with progress bar\n",
    "        desc = f\"[{index}/{total}] {title[:50]}\"\n",
    "        pbar = tqdm(total=100, desc=desc, unit='B', unit_scale=True, dynamic_ncols=True)\n",
    "        hook = TqdmHook(pbar)\n",
    "\n",
    "        ydl_opts = {\n",
    "            'format': 'bestvideo+bestaudio/best',\n",
    "            'outtmpl': os.path.join(OUTPUT_DIR, '%(title)s.%(ext)s'),\n",
    "            'merge_output_format': 'mp4',\n",
    "            'progress_hooks': [hook.hook],\n",
    "            'quiet': True,\n",
    "            'noprogress': True,\n",
    "        }\n",
    "\n",
    "        with YoutubeDL(ydl_opts) as ydl:\n",
    "            ydl.download([url])\n",
    "\n",
    "    except Exception as e:\n",
    "        print(f\"❌ [{index}/{total}] Failed: {url}\\n   Error: {e}\")"
   ]
  },
  {
   "cell_type": "code",
   "execution_count": 6,
   "metadata": {},
   "outputs": [],
   "source": [
    "# Run it all\n",
    "urls = read_links()\n",
    "total = len(urls)"
   ]
  },
  {
   "cell_type": "code",
   "execution_count": 7,
   "metadata": {},
   "outputs": [
    {
     "name": "stderr",
     "output_type": "stream",
     "text": [
      "[1/36] CS2 Surf Aquaflow: 100%|██████████| 166M/166M [00:19<00:00, 8.71MB/s]    \n",
      "[2/36] CS2 Surf Cyberwave: 100%|██████████| 282M/282M [00:29<00:00, 9.64MB/s]    \n",
      "[3/36] CS2 Surf Boreas: 100%|██████████| 142M/142M [00:18<00:00, 7.55MB/s]    \n",
      "[4/36] CS2 Surf Astra: 100%|██████████| 27.5M/27.5M [00:10<00:00, 2.72MB/s]  \n",
      "[5/36] CS2 Surf Nyx: 100%|██████████| 48.7M/48.7M [00:10<00:00, 4.78MB/s]  \n",
      "[6/36] CS2 Surf Glass9: 100%|██████████| 101M/101M [00:15<00:00, 6.33MB/s]    \n",
      "[7/36] CS2 Surf Me: 100%|██████████| 306M/306M [00:38<00:00, 8.03MB/s]    \n",
      "[8/36] surf_mesa_aether WR. Surfed by rulldar: 100%|██████████| 217M/217M [00:55<00:00, 3.90MB/s]    \n",
      "[9/36] surf_limbo WR. Surfed by Novaa: 100%|██████████| 192M/192M [01:55<00:00, 1.66MB/s]    \n",
      "[10/36] Surfing Dreams: 100%|██████████| 878M/878M [01:30<00:00, 9.71MB/s]     \n",
      "[11/36] surf_runewords WR. Surfed by Caff: 100%|██████████| 224M/224M [02:32<00:00, 1.47MB/s]    \n",
      "[12/36] CS2 SURF UTOPIA 55:06 (Cybershoke Rank #85): 100%|██████████| 16.4M/16.4M [00:08<00:00, 1.82MB/s]  \n",
      "[13/36] CS:GO - I Still Bhop For Fun: 100%|██████████| 91.4M/91.4M [00:16<00:00, 5.54MB/s]   \n",
      "[14/36] Madeira | Cinematic FPV: 100%|██████████| 213M/213M [00:26<00:00, 8.01MB/s]    \n",
      "[15/36] Faroe Islands | Cinematic FPV: 100%|██████████| 303M/303M [00:56<00:00, 5.32MB/s]    \n",
      "[16/36] Venezuela | Cinematic FPV over Angel Falls: 100%|██████████| 313M/313M [00:38<00:00, 8.11MB/s]    \n",
      "[17/36] Zero ℉@cks Given | Fly it like you stole it | FPV: 100%|██████████| 260M/260M [00:23<00:00, 11.1MB/s]    \n",
      "[18/36] Why Should you fly Freestyle at 800mW? | FPV: 100%|██████████| 274M/274M [00:45<00:00, 6.06MB/s]    \n",
      "[19/36] GOD MODE Activated ✅ | FPV Freestyle: 100%|██████████| 243M/243M [00:22<00:00, 10.7MB/s]    \n",
      "[20/36] CAN A CHEAP HARDTAIL SURVIVE THE UK'S BIGGEST JUMP: 100%|██████████| 1.52G/1.52G [02:01<00:00, 12.6MB/s]    \n",
      "[21/36] THE BEST DOWNHILL MTB TRAILS I'VE RIDDEN!!: 100%|██████████| 637M/637M [00:51<00:00, 12.4MB/s]    \n",
      "[22/36] Adrenaline Rush: GoPro POV on Champery's Insane Wo: 100%|██████████| 521M/521M [00:46<00:00, 11.1MB/s]    \n",
      "[23/36] Shredding the NEW Main Line at Phoenix Gravity Par: 100%|██████████| 271M/271M [00:28<00:00, 9.66MB/s]    \n",
      "[24/36] CHURCHNER RAAW Trail - Full Run | RAAW Laps: 100%|██████████| 396M/396M [00:44<00:00, 8.95MB/s]    \n",
      "[25/36] GoPro: Sage Kotsenburg's Raw Files | 4K: 100%|██████████| 878M/878M [03:03<00:00, 4.79MB/s]     \n",
      "[26/36] GoPro: Chris Benchetler's Raw Files | 4K: 100%|██████████| 1.16G/1.16G [02:33<00:00, 7.54MB/s]    \n",
      "[download] Got error: HTTP Error 403: Forbidden\n",
      "[download] Got error: HTTP Error 403: Forbidden-winner Bla:   0%|          | 0.00/100 [00:00<?, ?B/s]ERROR: \n",
      "[27/36] GoPro: Line of the Winter March 2016 Co-winner Bla: 100%|██████████| 54.8M/54.8M [00:22<00:00, 2.42MB/s]  \n",
      "[28/36] Speedriding Mastery | Carl Weiseth’s Raw Files: 100%|██████████| 493M/493M [00:48<00:00, 10.2MB/s]    \n",
      "[29/36] Insta360 Ace Pro 2 - Cyberpunk Night Ride ASMR (ft: 100%|██████████| 374M/374M [00:38<00:00, 9.68MB/s]    \n",
      "[30/36] Suzuki GSXR 750 Night Ride - Pure Exhaust Sound: 100%|██████████| 1.31G/1.31G [04:19<00:00, 5.07MB/s]    \n",
      "[31/36] Sport Bikes & Chicago: 100%|██████████| 4.01G/4.01G [27:14<00:00, 2.46MB/s]    \n",
      "[32/36] ⁴ᴷ⁶⁰ GTA 5: POV Ultra Realistic Motorbike Ride Gam: 100%|██████████| 1.10G/1.10G [02:46<00:00, 6.59MB/s]    \n",
      "[33/36] ⁴ᴷ⁶⁰ GTA 5: RTX 4090 POV Ultra Realistic Motorbike: 100%|██████████| 517M/517M [00:49<00:00, 10.4MB/s]    \n",
      "[34/36] GTA 5 Movie Like Real Life Graphics By Night - Bik: 100%|██████████| 1.16G/1.16G [13:19<00:00, 1.45MB/s]    \n",
      "[35/36] GTA 5 POV 4K - Riding BMW S1000RR Motorcycle In Ra: 100%|██████████| 1.58G/1.58G [02:57<00:00, 8.94MB/s]    \n",
      "[36/36] GTA 5 Update - Improved Street Lights: New Septemb: 100%|██████████| 1.88G/1.88G [12:14<00:00, 2.57MB/s]    \n"
     ]
    },
    {
     "name": "stdout",
     "output_type": "stream",
     "text": [
      "🏁 Done — all videos processed.\n"
     ]
    }
   ],
   "source": [
    "if not urls:\n",
    "    print(\"No links found.\")\n",
    "else:\n",
    "    for idx, link in enumerate(urls, start=1):\n",
    "        download_video_with_progress(link, idx, total)\n",
    "    print(\"🏁 Done — all videos processed.\")"
   ]
  },
  {
   "cell_type": "code",
   "execution_count": null,
   "metadata": {},
   "outputs": [],
   "source": []
  }
 ],
 "metadata": {
  "kernelspec": {
   "display_name": "condavnv",
   "language": "python",
   "name": "python3"
  },
  "language_info": {
   "codemirror_mode": {
    "name": "ipython",
    "version": 3
   },
   "file_extension": ".py",
   "mimetype": "text/x-python",
   "name": "python",
   "nbconvert_exporter": "python",
   "pygments_lexer": "ipython3",
   "version": "3.12.9"
  }
 },
 "nbformat": 4,
 "nbformat_minor": 5
}
